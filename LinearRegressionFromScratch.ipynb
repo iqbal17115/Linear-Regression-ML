{
 "cells": [
  {
   "cell_type": "code",
   "execution_count": 1,
   "id": "e3016efe",
   "metadata": {},
   "outputs": [
    {
     "data": {
      "text/plain": [
       "array([[         nan,          nan],\n",
       "       [ 1970.      ,  3399.299037],\n",
       "       [ 1971.      ,  3768.297935],\n",
       "       [ 1972.      ,  4251.175484],\n",
       "       [ 1973.      ,  4804.463248],\n",
       "       [ 1974.      ,  5576.514583],\n",
       "       [ 1975.      ,  5998.144346],\n",
       "       [ 1976.      ,  7062.131392],\n",
       "       [ 1977.      ,  7100.12617 ],\n",
       "       [ 1978.      ,  7247.967035],\n",
       "       [ 1979.      ,  7602.912681],\n",
       "       [ 1980.      ,  8355.96812 ],\n",
       "       [ 1981.      ,  9434.390652],\n",
       "       [ 1982.      ,  9619.438377],\n",
       "       [ 1983.      , 10416.53659 ],\n",
       "       [ 1984.      , 10790.32872 ],\n",
       "       [ 1985.      , 11018.95585 ],\n",
       "       [ 1986.      , 11482.89153 ],\n",
       "       [ 1987.      , 12974.80662 ],\n",
       "       [ 1988.      , 15080.28345 ],\n",
       "       [ 1989.      , 16426.72548 ],\n",
       "       [ 1990.      , 16838.6732  ],\n",
       "       [ 1991.      , 17266.09769 ],\n",
       "       [ 1992.      , 16412.08309 ],\n",
       "       [ 1993.      , 15875.58673 ],\n",
       "       [ 1994.      , 15755.82027 ],\n",
       "       [ 1995.      , 16369.31725 ],\n",
       "       [ 1996.      , 16699.82668 ],\n",
       "       [ 1997.      , 17310.75775 ],\n",
       "       [ 1998.      , 16622.67187 ],\n",
       "       [ 1999.      , 17581.02414 ],\n",
       "       [ 2000.      , 18987.38241 ],\n",
       "       [ 2001.      , 18601.39724 ],\n",
       "       [ 2002.      , 19232.17556 ],\n",
       "       [ 2003.      , 22739.42628 ],\n",
       "       [ 2004.      , 25719.14715 ],\n",
       "       [ 2005.      , 29198.05569 ],\n",
       "       [ 2006.      , 32738.2629  ],\n",
       "       [ 2007.      , 36144.48122 ],\n",
       "       [ 2008.      , 37446.48609 ],\n",
       "       [ 2009.      , 32755.17682 ],\n",
       "       [ 2010.      , 38420.52289 ],\n",
       "       [ 2011.      , 42334.71121 ],\n",
       "       [ 2012.      , 42665.25597 ],\n",
       "       [ 2013.      , 42676.46837 ],\n",
       "       [ 2014.      , 41039.8936  ],\n",
       "       [ 2015.      , 35175.18898 ],\n",
       "       [ 2016.      , 34229.19363 ]])"
      ]
     },
     "execution_count": 1,
     "metadata": {},
     "output_type": "execute_result"
    }
   ],
   "source": [
    "import numpy as np\n",
    "data = np.genfromtxt(\"data.csv\", delimiter=\",\")\n",
    "data"
   ]
  },
  {
   "cell_type": "code",
   "execution_count": 2,
   "id": "050321bb",
   "metadata": {},
   "outputs": [],
   "source": [
    "x = data[:, 0]\n",
    "y = data[:, 1]"
   ]
  },
  {
   "cell_type": "code",
   "execution_count": 3,
   "id": "82dac261",
   "metadata": {},
   "outputs": [
    {
     "data": {
      "text/plain": [
       "(48,)"
      ]
     },
     "execution_count": 3,
     "metadata": {},
     "output_type": "execute_result"
    }
   ],
   "source": [
    "x.shape"
   ]
  },
  {
   "cell_type": "code",
   "execution_count": 4,
   "id": "35f767f4",
   "metadata": {},
   "outputs": [
    {
     "data": {
      "text/plain": [
       "(48,)"
      ]
     },
     "execution_count": 4,
     "metadata": {},
     "output_type": "execute_result"
    }
   ],
   "source": [
    "y.shape"
   ]
  },
  {
   "cell_type": "code",
   "execution_count": 5,
   "id": "e76854d0",
   "metadata": {},
   "outputs": [
    {
     "data": {
      "text/plain": [
       "(38,)"
      ]
     },
     "execution_count": 5,
     "metadata": {},
     "output_type": "execute_result"
    }
   ],
   "source": [
    "from sklearn import model_selection\n",
    "X_train, X_test, y_train, y_test = model_selection.train_test_split(x, y, test_size=0.2)\n",
    "X_train.shape"
   ]
  },
  {
   "cell_type": "code",
   "execution_count": 6,
   "id": "87d02f6e",
   "metadata": {},
   "outputs": [],
   "source": [
    "def fit(x_train, y_train):\n",
    "    num = (x_train * y_train).mean() - x_train.mean() * y_train.mean()\n",
    "    den = (x_train**2).mean() - x_train.mean()**2\n",
    "    m = num / den\n",
    "    c = y_train.mean() - m * x_train.mean()\n",
    "    return m, c"
   ]
  },
  {
   "cell_type": "code",
   "execution_count": 7,
   "id": "de614e30",
   "metadata": {},
   "outputs": [],
   "source": [
    "def predict(x, m, c):\n",
    "    return m * x + c\n",
    "\n",
    "def score(y_truth, y_pred):\n",
    "    u = ((y_truth - y_pred)**2).sum()\n",
    "    v = ((y_truth - y_truth.mean())**2).sum()\n",
    "    return 1 - u/v\n",
    "def cost(x, y, m, c):\n",
    "    return ((y - m * x -c)**2).mean()"
   ]
  },
  {
   "cell_type": "code",
   "execution_count": 8,
   "id": "7c11f192",
   "metadata": {
    "scrolled": false
   },
   "outputs": [
    {
     "name": "stdout",
     "output_type": "stream",
     "text": [
      "Test Score:  nan\n",
      "Train Score:  nan\n",
      "M, C :  nan nan\n",
      "Cost on training data  nan\n"
     ]
    }
   ],
   "source": [
    "m, c = fit(X_train, y_train)\n",
    "# Test data\n",
    "y_test_pred = predict(y_test, m, c)\n",
    "print(\"Test Score: \", score(y_test, y_test_pred))\n",
    "\n",
    "# Train data\n",
    "y_train_pred = predict(y_train, m, c)\n",
    "print(\"Train Score: \", score(y_train, y_train_pred))\n",
    "print(\"M, C : \", m, c)\n",
    "print(\"Cost on training data \", cost(X_train, y_train, m, c))"
   ]
  }
 ],
 "metadata": {
  "kernelspec": {
   "display_name": "Python 3 (ipykernel)",
   "language": "python",
   "name": "python3"
  },
  "language_info": {
   "codemirror_mode": {
    "name": "ipython",
    "version": 3
   },
   "file_extension": ".py",
   "mimetype": "text/x-python",
   "name": "python",
   "nbconvert_exporter": "python",
   "pygments_lexer": "ipython3",
   "version": "3.9.13"
  }
 },
 "nbformat": 4,
 "nbformat_minor": 5
}
