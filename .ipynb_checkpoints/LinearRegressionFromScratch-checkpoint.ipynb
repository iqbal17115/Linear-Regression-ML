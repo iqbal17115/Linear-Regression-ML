{
 "cells": [
  {
   "cell_type": "code",
   "execution_count": 12,
   "id": "e3016efe",
   "metadata": {},
   "outputs": [
    {
     "ename": "ValueError",
     "evalue": "Some errors were detected !\n    Line #2 (got 2 columns instead of 5)\n    Line #3 (got 2 columns instead of 5)\n    Line #4 (got 2 columns instead of 5)\n    Line #5 (got 2 columns instead of 5)\n    Line #6 (got 2 columns instead of 5)\n    Line #7 (got 2 columns instead of 5)\n    Line #8 (got 2 columns instead of 5)\n    Line #9 (got 2 columns instead of 5)\n    Line #10 (got 2 columns instead of 5)\n    Line #11 (got 2 columns instead of 5)\n    Line #12 (got 2 columns instead of 5)\n    Line #13 (got 2 columns instead of 5)\n    Line #14 (got 2 columns instead of 5)\n    Line #15 (got 2 columns instead of 5)\n    Line #16 (got 2 columns instead of 5)\n    Line #17 (got 2 columns instead of 5)\n    Line #18 (got 2 columns instead of 5)\n    Line #19 (got 2 columns instead of 5)\n    Line #20 (got 2 columns instead of 5)\n    Line #21 (got 2 columns instead of 5)\n    Line #22 (got 2 columns instead of 5)\n    Line #23 (got 2 columns instead of 5)\n    Line #24 (got 2 columns instead of 5)\n    Line #25 (got 2 columns instead of 5)\n    Line #26 (got 2 columns instead of 5)\n    Line #27 (got 2 columns instead of 5)\n    Line #28 (got 2 columns instead of 5)\n    Line #29 (got 2 columns instead of 5)\n    Line #30 (got 2 columns instead of 5)\n    Line #31 (got 2 columns instead of 5)\n    Line #32 (got 2 columns instead of 5)\n    Line #33 (got 2 columns instead of 5)\n    Line #34 (got 2 columns instead of 5)\n    Line #35 (got 2 columns instead of 5)\n    Line #36 (got 2 columns instead of 5)\n    Line #37 (got 2 columns instead of 5)\n    Line #38 (got 2 columns instead of 5)\n    Line #39 (got 2 columns instead of 5)\n    Line #40 (got 2 columns instead of 5)\n    Line #41 (got 2 columns instead of 5)\n    Line #42 (got 2 columns instead of 5)\n    Line #43 (got 2 columns instead of 5)\n    Line #44 (got 2 columns instead of 5)\n    Line #45 (got 2 columns instead of 5)\n    Line #46 (got 2 columns instead of 5)\n    Line #47 (got 2 columns instead of 5)\n    Line #48 (got 2 columns instead of 5)",
     "output_type": "error",
     "traceback": [
      "\u001b[1;31m---------------------------------------------------------------------------\u001b[0m",
      "\u001b[1;31mValueError\u001b[0m                                Traceback (most recent call last)",
      "Cell \u001b[1;32mIn[12], line 2\u001b[0m\n\u001b[0;32m      1\u001b[0m \u001b[38;5;28;01mimport\u001b[39;00m \u001b[38;5;21;01mnumpy\u001b[39;00m \u001b[38;5;28;01mas\u001b[39;00m \u001b[38;5;21;01mnp\u001b[39;00m\n\u001b[1;32m----> 2\u001b[0m data \u001b[38;5;241m=\u001b[39m \u001b[43mnp\u001b[49m\u001b[38;5;241;43m.\u001b[39;49m\u001b[43mgenfromtxt\u001b[49m\u001b[43m(\u001b[49m\u001b[38;5;124;43m\"\u001b[39;49m\u001b[38;5;124;43mdata.csv\u001b[39;49m\u001b[38;5;124;43m\"\u001b[39;49m\u001b[43m)\u001b[49m\n\u001b[0;32m      3\u001b[0m data\n",
      "File \u001b[1;32mC:\\ProgramData\\anaconda3\\lib\\site-packages\\numpy\\lib\\npyio.py:2291\u001b[0m, in \u001b[0;36mgenfromtxt\u001b[1;34m(fname, dtype, comments, delimiter, skip_header, skip_footer, converters, missing_values, filling_values, usecols, names, excludelist, deletechars, replace_space, autostrip, case_sensitive, defaultfmt, unpack, usemask, loose, invalid_raise, max_rows, encoding, ndmin, like)\u001b[0m\n\u001b[0;32m   2289\u001b[0m \u001b[38;5;66;03m# Raise an exception ?\u001b[39;00m\n\u001b[0;32m   2290\u001b[0m \u001b[38;5;28;01mif\u001b[39;00m invalid_raise:\n\u001b[1;32m-> 2291\u001b[0m     \u001b[38;5;28;01mraise\u001b[39;00m \u001b[38;5;167;01mValueError\u001b[39;00m(errmsg)\n\u001b[0;32m   2292\u001b[0m \u001b[38;5;66;03m# Issue a warning ?\u001b[39;00m\n\u001b[0;32m   2293\u001b[0m \u001b[38;5;28;01melse\u001b[39;00m:\n\u001b[0;32m   2294\u001b[0m     warnings\u001b[38;5;241m.\u001b[39mwarn(errmsg, ConversionWarning, stacklevel\u001b[38;5;241m=\u001b[39m\u001b[38;5;241m2\u001b[39m)\n",
      "\u001b[1;31mValueError\u001b[0m: Some errors were detected !\n    Line #2 (got 2 columns instead of 5)\n    Line #3 (got 2 columns instead of 5)\n    Line #4 (got 2 columns instead of 5)\n    Line #5 (got 2 columns instead of 5)\n    Line #6 (got 2 columns instead of 5)\n    Line #7 (got 2 columns instead of 5)\n    Line #8 (got 2 columns instead of 5)\n    Line #9 (got 2 columns instead of 5)\n    Line #10 (got 2 columns instead of 5)\n    Line #11 (got 2 columns instead of 5)\n    Line #12 (got 2 columns instead of 5)\n    Line #13 (got 2 columns instead of 5)\n    Line #14 (got 2 columns instead of 5)\n    Line #15 (got 2 columns instead of 5)\n    Line #16 (got 2 columns instead of 5)\n    Line #17 (got 2 columns instead of 5)\n    Line #18 (got 2 columns instead of 5)\n    Line #19 (got 2 columns instead of 5)\n    Line #20 (got 2 columns instead of 5)\n    Line #21 (got 2 columns instead of 5)\n    Line #22 (got 2 columns instead of 5)\n    Line #23 (got 2 columns instead of 5)\n    Line #24 (got 2 columns instead of 5)\n    Line #25 (got 2 columns instead of 5)\n    Line #26 (got 2 columns instead of 5)\n    Line #27 (got 2 columns instead of 5)\n    Line #28 (got 2 columns instead of 5)\n    Line #29 (got 2 columns instead of 5)\n    Line #30 (got 2 columns instead of 5)\n    Line #31 (got 2 columns instead of 5)\n    Line #32 (got 2 columns instead of 5)\n    Line #33 (got 2 columns instead of 5)\n    Line #34 (got 2 columns instead of 5)\n    Line #35 (got 2 columns instead of 5)\n    Line #36 (got 2 columns instead of 5)\n    Line #37 (got 2 columns instead of 5)\n    Line #38 (got 2 columns instead of 5)\n    Line #39 (got 2 columns instead of 5)\n    Line #40 (got 2 columns instead of 5)\n    Line #41 (got 2 columns instead of 5)\n    Line #42 (got 2 columns instead of 5)\n    Line #43 (got 2 columns instead of 5)\n    Line #44 (got 2 columns instead of 5)\n    Line #45 (got 2 columns instead of 5)\n    Line #46 (got 2 columns instead of 5)\n    Line #47 (got 2 columns instead of 5)\n    Line #48 (got 2 columns instead of 5)"
     ]
    }
   ],
   "source": [
    "import numpy as np\n",
    "data = np.genfromtxt(\"data.csv\", delimiter=\",\")\n",
    "data"
   ]
  },
  {
   "cell_type": "code",
   "execution_count": null,
   "id": "6992d3ca",
   "metadata": {},
   "outputs": [],
   "source": []
  },
  {
   "cell_type": "code",
   "execution_count": null,
   "id": "050321bb",
   "metadata": {},
   "outputs": [],
   "source": [
    "x = data[:, 0]\n",
    "y = data[:, 1]"
   ]
  },
  {
   "cell_type": "code",
   "execution_count": null,
   "id": "82dac261",
   "metadata": {},
   "outputs": [],
   "source": [
    "x.shape"
   ]
  },
  {
   "cell_type": "code",
   "execution_count": null,
   "id": "35f767f4",
   "metadata": {},
   "outputs": [],
   "source": [
    "y.shape"
   ]
  },
  {
   "cell_type": "code",
   "execution_count": null,
   "id": "e76854d0",
   "metadata": {},
   "outputs": [],
   "source": [
    "from sklearn import model_selection\n",
    "X_train, X_test, y_train, y_test = model_selection.train_test_split(x, y, test_size=0.2)\n",
    "X_train.shape"
   ]
  },
  {
   "cell_type": "code",
   "execution_count": null,
   "id": "87d02f6e",
   "metadata": {},
   "outputs": [],
   "source": [
    "def fit(x_train, y_train):\n",
    "    num = (x_train * y_train).mean() - x_train.mean() * y_train.mean()\n",
    "    den = (x_train**2).mean() - x_train.mean()**2\n",
    "    m = num / den\n",
    "    c = y_train.mean() - m * x_train.mean()\n",
    "    return m, c"
   ]
  },
  {
   "cell_type": "code",
   "execution_count": null,
   "id": "de614e30",
   "metadata": {},
   "outputs": [],
   "source": [
    "def predict(x, m, c):\n",
    "    return m * x + c\n",
    "\n",
    "def score(y_truth, y_pred):\n",
    "    u = ((y_truth - y_pred)**2).sum()\n",
    "    v = ((y_truth - y_truth.mean())**2).sum()\n",
    "    return 1 - u/v\n",
    "def cost(x, y, m, c):\n",
    "    return ((y - m * x -c)**2).mean()"
   ]
  },
  {
   "cell_type": "code",
   "execution_count": null,
   "id": "7c11f192",
   "metadata": {
    "scrolled": false
   },
   "outputs": [],
   "source": [
    "m, c = fit(X_train, y_train)\n",
    "# Test data\n",
    "y_test_pred = predict(y_test, m, c)\n",
    "print(\"Test Score: \", score(y_test, y_test_pred))\n",
    "\n",
    "# Train data\n",
    "y_train_pred = predict(y_train, m, c)\n",
    "print(\"Train Score: \", score(y_train, y_train_pred))\n",
    "print(\"M, C : \", m, c)\n",
    "print(\"Cost on training data \", cost(X_train, y_train, m, c))"
   ]
  }
 ],
 "metadata": {
  "kernelspec": {
   "display_name": "Python 3 (ipykernel)",
   "language": "python",
   "name": "python3"
  },
  "language_info": {
   "codemirror_mode": {
    "name": "ipython",
    "version": 3
   },
   "file_extension": ".py",
   "mimetype": "text/x-python",
   "name": "python",
   "nbconvert_exporter": "python",
   "pygments_lexer": "ipython3",
   "version": "3.10.9"
  }
 },
 "nbformat": 4,
 "nbformat_minor": 5
}
