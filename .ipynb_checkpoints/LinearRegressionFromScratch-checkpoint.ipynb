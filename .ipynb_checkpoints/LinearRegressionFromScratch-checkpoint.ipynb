{
 "cells": [
  {
   "cell_type": "code",
   "execution_count": 24,
   "id": "e3016efe",
   "metadata": {},
   "outputs": [
    {
     "data": {
      "text/plain": [
       "array([[         nan,          nan],\n",
       "       [ 1970.      ,  3399.299037],\n",
       "       [ 1971.      ,  3768.297935],\n",
       "       [ 1972.      ,  4251.175484],\n",
       "       [ 1973.      ,  4804.463248],\n",
       "       [ 1974.      ,  5576.514583],\n",
       "       [ 1975.      ,  5998.144346],\n",
       "       [ 1976.      ,  7062.131392],\n",
       "       [ 1977.      ,  7100.12617 ],\n",
       "       [ 1978.      ,  7247.967035],\n",
       "       [ 1979.      ,  7602.912681],\n",
       "       [ 1980.      ,  8355.96812 ],\n",
       "       [ 1981.      ,  9434.390652],\n",
       "       [ 1982.      ,  9619.438377],\n",
       "       [ 1983.      , 10416.53659 ],\n",
       "       [ 1984.      , 10790.32872 ],\n",
       "       [ 1985.      , 11018.95585 ],\n",
       "       [ 1986.      , 11482.89153 ],\n",
       "       [ 1987.      , 12974.80662 ],\n",
       "       [ 1988.      , 15080.28345 ],\n",
       "       [ 1989.      , 16426.72548 ],\n",
       "       [ 1990.      , 16838.6732  ],\n",
       "       [ 1991.      , 17266.09769 ],\n",
       "       [ 1992.      , 16412.08309 ],\n",
       "       [ 1993.      , 15875.58673 ],\n",
       "       [ 1994.      , 15755.82027 ],\n",
       "       [ 1995.      , 16369.31725 ],\n",
       "       [ 1996.      , 16699.82668 ],\n",
       "       [ 1997.      , 17310.75775 ],\n",
       "       [ 1998.      , 16622.67187 ],\n",
       "       [ 1999.      , 17581.02414 ],\n",
       "       [ 2000.      , 18987.38241 ],\n",
       "       [ 2001.      , 18601.39724 ],\n",
       "       [ 2002.      , 19232.17556 ],\n",
       "       [ 2003.      , 22739.42628 ],\n",
       "       [ 2004.      , 25719.14715 ],\n",
       "       [ 2005.      , 29198.05569 ],\n",
       "       [ 2006.      , 32738.2629  ],\n",
       "       [ 2007.      , 36144.48122 ],\n",
       "       [ 2008.      , 37446.48609 ],\n",
       "       [ 2009.      , 32755.17682 ],\n",
       "       [ 2010.      , 38420.52289 ],\n",
       "       [ 2011.      , 42334.71121 ],\n",
       "       [ 2012.      , 42665.25597 ],\n",
       "       [ 2013.      , 42676.46837 ],\n",
       "       [ 2014.      , 41039.8936  ],\n",
       "       [ 2015.      , 35175.18898 ],\n",
       "       [ 2016.      , 34229.19363 ]])"
      ]
     },
     "execution_count": 24,
     "metadata": {},
     "output_type": "execute_result"
    }
   ],
   "source": [
    "import numpy as np\n",
    "data = np.genfromtxt(\"data.csv\", delimiter=\",\")\n",
    "data"
   ]
  },
  {
   "cell_type": "code",
   "execution_count": 25,
   "id": "58cd8f18",
   "metadata": {},
   "outputs": [],
   "source": [
    "x = data[:, 0]\n",
    "y = data[:, 1]"
   ]
  },
  {
   "cell_type": "code",
   "execution_count": null,
   "id": "4b5e7105",
   "metadata": {},
   "outputs": [],
   "source": [
    "x.shape"
   ]
  },
  {
   "cell_type": "code",
   "execution_count": null,
   "id": "3f1ff34b",
   "metadata": {},
   "outputs": [],
   "source": [
    "y.shape"
   ]
  },
  {
   "cell_type": "code",
   "execution_count": null,
   "id": "90400fd5",
   "metadata": {},
   "outputs": [],
   "source": []
  },
  {
   "cell_type": "code",
   "execution_count": null,
   "id": "9e231584",
   "metadata": {},
   "outputs": [],
   "source": []
  },
  {
   "cell_type": "code",
   "execution_count": null,
   "id": "47c2b582",
   "metadata": {},
   "outputs": [],
   "source": []
  }
 ],
 "metadata": {
  "kernelspec": {
   "display_name": "Python 3 (ipykernel)",
   "language": "python",
   "name": "python3"
  },
  "language_info": {
   "codemirror_mode": {
    "name": "ipython",
    "version": 3
   },
   "file_extension": ".py",
   "mimetype": "text/x-python",
   "name": "python",
   "nbconvert_exporter": "python",
   "pygments_lexer": "ipython3",
   "version": "3.9.13"
  }
 },
 "nbformat": 4,
 "nbformat_minor": 5
}
